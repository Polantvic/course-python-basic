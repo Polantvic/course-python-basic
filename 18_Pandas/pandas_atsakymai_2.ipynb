{
 "cells": [
  {
   "cell_type": "markdown",
   "metadata": {},
   "source": [
    "# Pandas atsakymai 2"
   ]
  },
  {
   "cell_type": "code",
   "execution_count": null,
   "metadata": {
    "tags": []
   },
   "outputs": [],
   "source": [
    "import numpy as np\n",
    "import pandas as pd"
   ]
  },
  {
   "cell_type": "markdown",
   "metadata": {},
   "source": [
    "#  1 Sulipdykite iš 4 fragmentų vieną lentelę:\n",
    "\n",
    "fragmentus rasite [čia](https://github.com/robotautas/kursas/tree/master/Pandas/tops)\n",
    "\n",
    "* top_left = pd.read_csv('top1-25-1.csv')\n",
    "* top_right = pd.read_csv('top1-25-2.csv')\n",
    "* bottom_left = pd.read_csv('top26-50-1.csv')\n",
    "* bottom_right = pd.read_csv('top26-50-2.csv')\n",
    "\n",
    "pirmiausiai sujunkite apatinę dalį, tada viršutinę *(yra persidengiančių stulpelių!)*, galiausiai viršų su apačia. Naudokite **.concat()** ir **.merge()** metodus. "
   ]
  },
  {
   "cell_type": "code",
   "execution_count": null,
   "metadata": {
    "tags": []
   },
   "outputs": [],
   "source": [
    "top_left = pd.read_csv('top1-25-1.csv')\n",
    "top_right = pd.read_csv('top1-25-2.csv')\n",
    "bottom_left = pd.read_csv('top26-50-1.csv')\n",
    "bottom_right = pd.read_csv('top26-50-2.csv')\n",
    "data_bottom = pd.concat([bottom_left, bottom_right], axis=1)\n",
    "data_top = pd.merge(top_left, top_right, on=['Track.Name', 'Popularity'])\n",
    "data = pd.concat([data_top, data_bottom], sort=False)"
   ]
  },
  {
   "cell_type": "code",
   "execution_count": null,
   "metadata": {
    "scrolled": true,
    "tags": []
   },
   "outputs": [],
   "source": [
    "data.head()"
   ]
  },
  {
   "cell_type": "markdown",
   "metadata": {},
   "source": [
    "# 2 Sutvarkykite indeksą - padarykite, kad prasidėtų nuo 1."
   ]
  },
  {
   "cell_type": "code",
   "execution_count": null,
   "metadata": {
    "tags": []
   },
   "outputs": [],
   "source": [
    "data['#'] = list(range(1, 51))"
   ]
  },
  {
   "cell_type": "code",
   "execution_count": null,
   "metadata": {
    "tags": []
   },
   "outputs": [],
   "source": [
    "data.set_index('#', inplace=True)"
   ]
  },
  {
   "cell_type": "code",
   "execution_count": null,
   "metadata": {
    "tags": []
   },
   "outputs": [],
   "source": [
    "data.head(50)"
   ]
  },
  {
   "cell_type": "markdown",
   "metadata": {},
   "source": [
    "# 3 Sukurkite grupavimo pagal žanrą objektą"
   ]
  },
  {
   "cell_type": "code",
   "execution_count": null,
   "metadata": {
    "tags": []
   },
   "outputs": [],
   "source": [
    "grouped = data.groupby('Genre')"
   ]
  },
  {
   "cell_type": "code",
   "execution_count": null,
   "metadata": {
    "tags": []
   },
   "outputs": [],
   "source": [
    "grouped"
   ]
  },
  {
   "cell_type": "markdown",
   "metadata": {},
   "source": [
    "# 4 kokie žanrai lentelėje pasitaiko daugiau negu 3 kartus?"
   ]
  },
  {
   "cell_type": "code",
   "execution_count": null,
   "metadata": {
    "tags": []
   },
   "outputs": [],
   "source": [
    "newdf = grouped.count()"
   ]
  },
  {
   "cell_type": "code",
   "execution_count": null,
   "metadata": {
    "tags": []
   },
   "outputs": [],
   "source": [
    "newdf.head()"
   ]
  },
  {
   "cell_type": "code",
   "execution_count": null,
   "metadata": {
    "tags": []
   },
   "outputs": [],
   "source": [
    "newdf[newdf['Energy']>3]['Energy']"
   ]
  },
  {
   "cell_type": "markdown",
   "metadata": {},
   "source": [
    "# 5 Koks žanras pats populiariausias? Koks mažiausiai populiarus?\n",
    "(pagal populiarumo vidurkį)"
   ]
  },
  {
   "cell_type": "code",
   "execution_count": null,
   "metadata": {
    "tags": []
   },
   "outputs": [],
   "source": [
    "most_popular_genre = grouped['Popularity'].mean().idxmax()\n",
    "most_popular_score = grouped['Popularity'].mean().max()\n",
    "least_popular_genre = grouped['Popularity'].mean().idxmin()\n",
    "least_popular_score = grouped['Popularity'].mean().min()\n",
    "print(most_popular_genre, most_popular_score)\n",
    "print(least_popular_genre, least_popular_score)"
   ]
  },
  {
   "cell_type": "markdown",
   "metadata": {},
   "source": [
    "# 6 Sukurkite lentelę, kurioje matytųsi, koks žanras turi aukščiausią vidurkį kiekviename indikatoriuje, bei pats vidurkis.\n",
    "kad nereikėtų daug vargti su stulpelių pavadinimais, galima juos ištraukti su **.columns.tolist()**"
   ]
  },
  {
   "cell_type": "code",
   "execution_count": null,
   "metadata": {
    "tags": []
   },
   "outputs": [],
   "source": [
    "cols = data.columns.tolist()[3:]\n",
    "zanrai = grouped[cols].mean().idxmax()\n",
    "skaiciai = grouped[cols].mean().max()\n",
    "result = pd.DataFrame([cols, zanrai, skaiciai], \n",
    "                      ['Indikatorius', 'Žanras', 'Balai']).transpose()"
   ]
  },
  {
   "cell_type": "code",
   "execution_count": null,
   "metadata": {
    "scrolled": true,
    "tags": []
   },
   "outputs": [],
   "source": [
    "result"
   ]
  },
  {
   "cell_type": "markdown",
   "metadata": {},
   "source": [
    "# 7 Grįžkime prie sulipdytos lentelės. Ištraukite visas eilutes, kurios turi NaN reikšmių.\n",
    "*filtravimo sąlygose naudokite **.isnull()** funkciją.*"
   ]
  },
  {
   "cell_type": "code",
   "execution_count": null,
   "metadata": {
    "tags": []
   },
   "outputs": [],
   "source": [
    "data.info()"
   ]
  },
  {
   "cell_type": "code",
   "execution_count": null,
   "metadata": {
    "tags": []
   },
   "outputs": [],
   "source": [
    "data[data['Genre'].isnull() | data['Popularity'].isnull()]"
   ]
  },
  {
   "cell_type": "markdown",
   "metadata": {},
   "source": [
    "# 8 Stulpelyje 'Genre' NaN reikšmes pakeiskite į 'pop'"
   ]
  },
  {
   "cell_type": "code",
   "execution_count": null,
   "metadata": {
    "tags": []
   },
   "outputs": [],
   "source": [
    "data['Genre'] = data['Genre'].fillna('pop')"
   ]
  },
  {
   "cell_type": "markdown",
   "metadata": {},
   "source": [
    "# 9 Stulpelyje 'Popularity' trūkstamas reikšmes pakeiskite į stulpelio vidurkį\n"
   ]
  },
  {
   "cell_type": "code",
   "execution_count": null,
   "metadata": {
    "tags": []
   },
   "outputs": [],
   "source": [
    "data['Popularity'] = data['Popularity'].fillna(value=data['Popularity'].mean())"
   ]
  },
  {
   "cell_type": "code",
   "execution_count": null,
   "metadata": {
    "tags": []
   },
   "outputs": [],
   "source": [
    "data[data['Genre'].isnull() | data['Popularity'].isnull()]"
   ]
  },
  {
   "cell_type": "code",
   "execution_count": null,
   "metadata": {},
   "outputs": [],
   "source": []
  }
 ],
 "metadata": {
  "kernelspec": {
   "display_name": "Python 3 (ipykernel)",
   "language": "python",
   "name": "python3"
  },
  "language_info": {
   "codemirror_mode": {
    "name": "ipython",
    "version": 3
   },
   "file_extension": ".py",
   "mimetype": "text/x-python",
   "name": "python",
   "nbconvert_exporter": "python",
   "pygments_lexer": "ipython3",
   "version": "3.11.0"
  }
 },
 "nbformat": 4,
 "nbformat_minor": 4
}
