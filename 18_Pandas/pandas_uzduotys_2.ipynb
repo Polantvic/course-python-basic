{
 "cells": [
  {
   "cell_type": "markdown",
   "metadata": {},
   "source": [
    "# Pandas užduotys 2"
   ]
  },
  {
   "cell_type": "code",
   "execution_count": 10,
   "metadata": {},
   "outputs": [],
   "source": [
    "import numpy as np\n",
    "import pandas as pd"
   ]
  },
  {
   "cell_type": "markdown",
   "metadata": {},
   "source": [
    "#  1 Sulipdykite iš 4 fragmentų vieną lentelę:\n",
    "\n",
    "fragmentus rasite [čia](https://github.com/robotautas/kursas/tree/master/Pandas/tops)\n",
    "\n",
    "* top_left = pd.read_csv('top1-25-1.csv')\n",
    "* top_right = pd.read_csv('top1-25-2.csv')\n",
    "* bottom_left = pd.read_csv('top26-50-1.csv')\n",
    "* bottom_right = pd.read_csv('top26-50-2.csv')\n",
    "\n",
    "pirmiausiai sujunkite apatinę dalį, tada viršutinę *(yra persidengiančių stulpelių!)*, galiausiai viršų su apačia. Naudokite **.concat()** ir **.merge()** metodus. "
   ]
  },
  {
   "cell_type": "code",
   "execution_count": null,
   "metadata": {},
   "outputs": [],
   "source": [
    "top_left = pd.read_csv('fragmentai/top1-25-1.csv')\n",
    "top_right = pd.read_csv('fragmentai/top1-25-2.csv')\n",
    "bottom_left = pd.read_csv('fragmentai/top26-50-1.csv')\n",
    "bottom_right = pd.read_csv('fragmentai/top26-50-2.csv')\n",
    "\n",
    "top = pd.merge(top_left, top_right, on=[\"Track.Name\", \"Popularity\"])\n",
    "bottom = pd.concat([bottom_left, bottom_right], axis=1)\n",
    "data = pd.concat([top, bottom])\n",
    "data"
   ]
  },
  {
   "cell_type": "markdown",
   "metadata": {},
   "source": [
    "# 2 Sutvarkykite indeksą - padarykite, kad prasidėtų nuo 1."
   ]
  },
  {
   "cell_type": "code",
   "execution_count": null,
   "metadata": {},
   "outputs": [],
   "source": [
    "data[\"ID\"]= np.arange(1, 51)\n",
    "data.set_index(\"ID\", inplace=True)\n",
    "data.head()"
   ]
  },
  {
   "cell_type": "markdown",
   "metadata": {},
   "source": [
    "# 3 Sukurkite grupavimo pagal žanrą objektą"
   ]
  },
  {
   "cell_type": "code",
   "execution_count": 13,
   "metadata": {},
   "outputs": [
    {
     "data": {
      "text/plain": [
       "<pandas.core.groupby.generic.DataFrameGroupBy object at 0x0000021B31622FD0>"
      ]
     },
     "execution_count": 13,
     "metadata": {},
     "output_type": "execute_result"
    }
   ],
   "source": [
    "group_data = data.groupby(\"Genre\")\n",
    "group_data"
   ]
  },
  {
   "cell_type": "markdown",
   "metadata": {},
   "source": [
    "# 4 kokie žanrai lentelėje pasitaiko daugiau negu 3 kartus?"
   ]
  },
  {
   "cell_type": "code",
   "execution_count": 14,
   "metadata": {},
   "outputs": [
    {
     "data": {
      "text/plain": [
       "Genre\n",
       "dance pop    8\n",
       "latin        5\n",
       "pop          6\n",
       "Name: Track.Name, dtype: int64"
      ]
     },
     "execution_count": 14,
     "metadata": {},
     "output_type": "execute_result"
    }
   ],
   "source": [
    "gr_data_count = group_data.count()\n",
    "gr_data_count[gr_data_count[\"Track.Name\"] >3][\"Track.Name\"]"
   ]
  },
  {
   "cell_type": "markdown",
   "metadata": {},
   "source": [
    "# 5 Koks žanras pats populiariausias? Koks mažiausiai populiarus?\n",
    "(pagal populiarumo vidurkį)"
   ]
  },
  {
   "cell_type": "code",
   "execution_count": 15,
   "metadata": {},
   "outputs": [
    {
     "name": "stdout",
     "output_type": "stream",
     "text": [
      "electropop: 95.0\n",
      "canadian pop: 74.5\n"
     ]
    }
   ],
   "source": [
    "best_genre = group_data['Popularity'].mean().idxmax()\n",
    "best_genre_score = group_data[\"Popularity\"].mean().max()\n",
    "print(f\"{best_genre}: {best_genre_score}\")\n",
    "\n",
    "low_genre = group_data['Popularity'].mean().idxmin()\n",
    "low_genre_score = group_data[\"Popularity\"].mean().min()\n",
    "print(f\"{low_genre}: {low_genre_score}\")\n"
   ]
  },
  {
   "cell_type": "markdown",
   "metadata": {},
   "source": [
    "# 6 Sukurkite lentelę, kurioje matytųsi, koks žanras turi aukščiausią vidurkį kiekviename indikatoriuje, bei pats vidurkis.\n",
    "kad nereikėtų daug vargti su stulpelių pavadinimais, galima juos ištraukti su **.columns.tolist()**"
   ]
  },
  {
   "cell_type": "code",
   "execution_count": 19,
   "metadata": {
    "scrolled": true
   },
   "outputs": [
    {
     "data": {
      "text/html": [
       "<div>\n",
       "<style scoped>\n",
       "    .dataframe tbody tr th:only-of-type {\n",
       "        vertical-align: middle;\n",
       "    }\n",
       "\n",
       "    .dataframe tbody tr th {\n",
       "        vertical-align: top;\n",
       "    }\n",
       "\n",
       "    .dataframe thead th {\n",
       "        text-align: right;\n",
       "    }\n",
       "</style>\n",
       "<table border=\"1\" class=\"dataframe\">\n",
       "  <thead>\n",
       "    <tr style=\"text-align: right;\">\n",
       "      <th></th>\n",
       "      <th>Indikatorius</th>\n",
       "      <th>Žanras</th>\n",
       "      <th>Balai</th>\n",
       "    </tr>\n",
       "  </thead>\n",
       "  <tbody>\n",
       "    <tr>\n",
       "      <th>0</th>\n",
       "      <td>Popularity</td>\n",
       "      <td>electropop</td>\n",
       "      <td>95.0</td>\n",
       "    </tr>\n",
       "    <tr>\n",
       "      <th>1</th>\n",
       "      <td>Beats.Per.Minute</td>\n",
       "      <td>trap music</td>\n",
       "      <td>180.0</td>\n",
       "    </tr>\n",
       "    <tr>\n",
       "      <th>2</th>\n",
       "      <td>Energy</td>\n",
       "      <td>reggaeton flow</td>\n",
       "      <td>80.0</td>\n",
       "    </tr>\n",
       "    <tr>\n",
       "      <th>3</th>\n",
       "      <td>Danceability</td>\n",
       "      <td>r&amp;b en espanol</td>\n",
       "      <td>88.0</td>\n",
       "    </tr>\n",
       "    <tr>\n",
       "      <th>4</th>\n",
       "      <td>Loudness..dB..</td>\n",
       "      <td>brostep</td>\n",
       "      <td>-2.5</td>\n",
       "    </tr>\n",
       "    <tr>\n",
       "      <th>5</th>\n",
       "      <td>Liveness</td>\n",
       "      <td>brostep</td>\n",
       "      <td>37.5</td>\n",
       "    </tr>\n",
       "    <tr>\n",
       "      <th>6</th>\n",
       "      <td>Valence.</td>\n",
       "      <td>boy band</td>\n",
       "      <td>95.0</td>\n",
       "    </tr>\n",
       "    <tr>\n",
       "      <th>7</th>\n",
       "      <td>Length.</td>\n",
       "      <td>reggaeton flow</td>\n",
       "      <td>305.5</td>\n",
       "    </tr>\n",
       "    <tr>\n",
       "      <th>8</th>\n",
       "      <td>Acousticness..</td>\n",
       "      <td>australian pop</td>\n",
       "      <td>69.0</td>\n",
       "    </tr>\n",
       "    <tr>\n",
       "      <th>9</th>\n",
       "      <td>Speechiness.</td>\n",
       "      <td>electropop</td>\n",
       "      <td>34.0</td>\n",
       "    </tr>\n",
       "  </tbody>\n",
       "</table>\n",
       "</div>"
      ],
      "text/plain": [
       "       Indikatorius          Žanras  Balai\n",
       "0        Popularity      electropop   95.0\n",
       "1  Beats.Per.Minute      trap music  180.0\n",
       "2            Energy  reggaeton flow   80.0\n",
       "3      Danceability  r&b en espanol   88.0\n",
       "4    Loudness..dB..         brostep   -2.5\n",
       "5          Liveness         brostep   37.5\n",
       "6          Valence.        boy band   95.0\n",
       "7           Length.  reggaeton flow  305.5\n",
       "8    Acousticness..  australian pop   69.0\n",
       "9      Speechiness.      electropop   34.0"
      ]
     },
     "execution_count": 19,
     "metadata": {},
     "output_type": "execute_result"
    }
   ],
   "source": [
    "# group_data[\"Beats.Per.Minute\"].mean()\n",
    "# group_data.columns.tolist()\n",
    "cols = data.columns.tolist()[3:]\n",
    "zanrai = group_data[cols].mean().idxmax()\n",
    "skaiciai = group_data[cols].mean().max()\n",
    "result = pd.DataFrame([cols, zanrai, skaiciai], ['Indikatorius', 'Žanras', 'Balai']).transpose()\n",
    "result"
   ]
  },
  {
   "cell_type": "markdown",
   "metadata": {},
   "source": [
    "# 7 Grįžkime prie sulipdytos lentelės. Ištraukite visas eilutes, kurios turi NaN reikšmių.\n",
    "*filtravimo sąlygose naudokite **.isnull()** funkciją.*"
   ]
  },
  {
   "cell_type": "code",
   "execution_count": null,
   "metadata": {},
   "outputs": [],
   "source": []
  },
  {
   "cell_type": "code",
   "execution_count": null,
   "metadata": {},
   "outputs": [],
   "source": []
  },
  {
   "cell_type": "markdown",
   "metadata": {},
   "source": [
    "# 8 Stulpelyje 'Genre' NaN reikšmes pakeiskite į 'pop'"
   ]
  },
  {
   "cell_type": "code",
   "execution_count": null,
   "metadata": {},
   "outputs": [],
   "source": []
  },
  {
   "cell_type": "markdown",
   "metadata": {},
   "source": [
    "# 9 Stulpelyje 'Popularity' trūkstamas reikšmes pakeiskite į stulpelio vidurkį\n"
   ]
  },
  {
   "cell_type": "code",
   "execution_count": null,
   "metadata": {},
   "outputs": [],
   "source": []
  },
  {
   "cell_type": "code",
   "execution_count": null,
   "metadata": {},
   "outputs": [],
   "source": []
  }
 ],
 "metadata": {
  "kernelspec": {
   "display_name": "Python 3",
   "language": "python",
   "name": "python3"
  },
  "language_info": {
   "codemirror_mode": {
    "name": "ipython",
    "version": 3
   },
   "file_extension": ".py",
   "mimetype": "text/x-python",
   "name": "python",
   "nbconvert_exporter": "python",
   "pygments_lexer": "ipython3",
   "version": "3.11.7"
  }
 },
 "nbformat": 4,
 "nbformat_minor": 2
}
