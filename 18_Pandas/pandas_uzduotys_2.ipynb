{
 "cells": [
  {
   "cell_type": "markdown",
   "metadata": {},
   "source": [
    "# Pandas užduotys 2"
   ]
  },
  {
   "cell_type": "code",
   "execution_count": null,
   "metadata": {},
   "outputs": [],
   "source": [
    "import numpy as np\n",
    "import pandas as pd"
   ]
  },
  {
   "cell_type": "markdown",
   "metadata": {},
   "source": [
    "#  1 Sulipdykite iš 4 fragmentų vieną lentelę:\n",
    "\n",
    "fragmentus rasite [čia](https://github.com/robotautas/kursas/tree/master/Pandas/tops)\n",
    "\n",
    "* top_left = pd.read_csv('top1-25-1.csv')\n",
    "* top_right = pd.read_csv('top1-25-2.csv')\n",
    "* bottom_left = pd.read_csv('top26-50-1.csv')\n",
    "* bottom_right = pd.read_csv('top26-50-2.csv')\n",
    "\n",
    "pirmiausiai sujunkite apatinę dalį, tada viršutinę *(yra persidengiančių stulpelių!)*, galiausiai viršų su apačia. Naudokite **.concat()** ir **.merge()** metodus. "
   ]
  },
  {
   "cell_type": "code",
   "execution_count": null,
   "metadata": {},
   "outputs": [],
   "source": [
    "top_left = pd.read_csv('fragmentai/top1-25-1.csv')\n",
    "top_right = pd.read_csv('fragmentai/top1-25-2.csv')\n",
    "bottom_left = pd.read_csv('fragmentai/top26-50-1.csv')\n",
    "bottom_right = pd.read_csv('fragmentai/top26-50-2.csv')\n",
    "\n",
    "top = pd.merge(top_left, top_right, on=[\"Track.Name\", \"Popularity\"])\n",
    "bottom = pd.concat([bottom_left, bottom_right], axis=1)\n",
    "data = pd.concat([top, bottom])\n",
    "data.head()"
   ]
  },
  {
   "cell_type": "markdown",
   "metadata": {},
   "source": [
    "# 2 Sutvarkykite indeksą - padarykite, kad prasidėtų nuo 1."
   ]
  },
  {
   "cell_type": "code",
   "execution_count": null,
   "metadata": {},
   "outputs": [],
   "source": [
    "data[\"ID\"]= np.arange(1, 51)\n",
    "data.set_index(\"ID\", inplace=True)\n",
    "data.head()"
   ]
  },
  {
   "cell_type": "markdown",
   "metadata": {},
   "source": [
    "# 3 Sukurkite grupavimo pagal žanrą objektą"
   ]
  },
  {
   "cell_type": "code",
   "execution_count": null,
   "metadata": {},
   "outputs": [],
   "source": [
    "group_data = data.groupby(\"Genre\")\n",
    "group_data"
   ]
  },
  {
   "cell_type": "markdown",
   "metadata": {},
   "source": [
    "# 4 kokie žanrai lentelėje pasitaiko daugiau negu 3 kartus?"
   ]
  },
  {
   "cell_type": "code",
   "execution_count": null,
   "metadata": {},
   "outputs": [],
   "source": [
    "gr_data_count = group_data.count()\n",
    "gr_data_count[gr_data_count[\"Track.Name\"] >3][\"Track.Name\"]"
   ]
  },
  {
   "cell_type": "markdown",
   "metadata": {},
   "source": [
    "# 5 Koks žanras pats populiariausias? Koks mažiausiai populiarus?\n",
    "(pagal populiarumo vidurkį)"
   ]
  },
  {
   "cell_type": "code",
   "execution_count": null,
   "metadata": {},
   "outputs": [],
   "source": [
    "best_genre = group_data['Popularity'].mean().idxmax()\n",
    "best_genre_score = group_data[\"Popularity\"].mean().max()\n",
    "print(f\"{best_genre}: {best_genre_score}\")\n",
    "\n",
    "low_genre = group_data['Popularity'].mean().idxmin()\n",
    "low_genre_score = group_data[\"Popularity\"].mean().min()\n",
    "print(f\"{low_genre}: {low_genre_score}\")\n"
   ]
  },
  {
   "cell_type": "markdown",
   "metadata": {},
   "source": [
    "# 6 Sukurkite lentelę, kurioje matytųsi, koks žanras turi aukščiausią vidurkį kiekviename indikatoriuje, bei pats vidurkis.\n",
    "kad nereikėtų daug vargti su stulpelių pavadinimais, galima juos ištraukti su **.columns.tolist()**"
   ]
  },
  {
   "cell_type": "code",
   "execution_count": null,
   "metadata": {
    "scrolled": true
   },
   "outputs": [],
   "source": [
    "cols = data.columns.tolist()[3:]\n",
    "zanrai = group_data[cols].mean().idxmax()\n",
    "skaiciai = group_data[cols].mean().max()\n",
    "result = pd.DataFrame([cols, zanrai, skaiciai], ['Indikatorius', 'Žanras', 'Balai']).transpose()\n",
    "result\n"
   ]
  },
  {
   "cell_type": "markdown",
   "metadata": {},
   "source": [
    "# 7 Grįžkime prie sulipdytos lentelės. Ištraukite visas eilutes, kurios turi NaN reikšmių.\n",
    "*filtravimo sąlygose naudokite **.isnull()** funkciją.*"
   ]
  },
  {
   "cell_type": "code",
   "execution_count": null,
   "metadata": {},
   "outputs": [],
   "source": [
    "#data.info()\n",
    "#data.dropna().shape\n",
    "data[data[\"Popularity\"].isnull() | data[\"Genre\"].isnull()]\n"
   ]
  },
  {
   "cell_type": "markdown",
   "metadata": {},
   "source": [
    "# 8 Stulpelyje 'Genre' NaN reikšmes pakeiskite į 'pop'"
   ]
  },
  {
   "cell_type": "code",
   "execution_count": null,
   "metadata": {},
   "outputs": [],
   "source": [
    "data[\"Genre\"] = data[\"Genre\"].fillna(\"pop\")\n",
    " "
   ]
  },
  {
   "cell_type": "markdown",
   "metadata": {},
   "source": [
    "# 9 Stulpelyje 'Popularity' trūkstamas reikšmes pakeiskite į stulpelio vidurkį\n"
   ]
  },
  {
   "cell_type": "code",
   "execution_count": null,
   "metadata": {},
   "outputs": [],
   "source": [
    "data[\"Popularity\"] = data[\"Popularity\"].fillna(round(data[\"Popularity\"].mean(),1))\n",
    "#data.loc[[4, 25, 48]]\n"
   ]
  }
 ],
 "metadata": {
  "kernelspec": {
   "display_name": "Python 3",
   "language": "python",
   "name": "python3"
  },
  "language_info": {
   "codemirror_mode": {
    "name": "ipython",
    "version": 3
   },
   "file_extension": ".py",
   "mimetype": "text/x-python",
   "name": "python",
   "nbconvert_exporter": "python",
   "pygments_lexer": "ipython3",
   "version": "3.11.7"
  }
 },
 "nbformat": 4,
 "nbformat_minor": 2
}
